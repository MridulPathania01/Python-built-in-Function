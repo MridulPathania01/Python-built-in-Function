{
 "cells": [
  {
   "cell_type": "markdown",
   "id": "552778fd",
   "metadata": {},
   "source": [
    "\n",
    "|Sorting Algorithm | Best | Worst | Average\t| Space |\n",
    "|------------------|---------------|------|-------|---------|\n",
    "|Bubble Sort|n|n2|n2|1|\n",
    "|Selection Sort|\tn2|\tn2|\tn2|\t1\n",
    "|Insertion Sort\t|n|\tn2\t|n2|\t1|\n",
    "|Merge Sort\t|nlogn|nlogn|nlogn|n|\n",
    "|Quicksort\t|nlogn|n2|nlogn\t|logn|\n",
    "|Counting Sort|\tn+k|n+k|n+k\t|max|\n",
    "|Radix Sort\t|n+k|n+k|n+k|max|\n",
    "|Bucket Sort|\tn+k\t|n2\t|n\t|n+k|\n",
    "|Heap Sort\t|nlogn|\tnlogn|\tnlogn\t|1|\n",
    "|Shell Sort|nlogn|\tn2|\tnlogn\t|1|"
   ]
  }
 ],
 "metadata": {
  "language_info": {
   "name": "python"
  }
 },
 "nbformat": 4,
 "nbformat_minor": 5
}
