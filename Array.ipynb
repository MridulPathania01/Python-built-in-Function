{
 "cells": [
  {
   "cell_type": "markdown",
   "id": "0fd5d633",
   "metadata": {},
   "source": [
    "# Built in Functions \n",
    "Helps a lot to do problem in less time"
   ]
  },
  {
   "cell_type": "markdown",
   "id": "caedf30b",
   "metadata": {},
   "source": [
    "# List\n",
    "| Function      | Purpose                                            |\n",
    "| ------------- | -------------------------------------------------- |\n",
    "| `len()`       | Get number of elements in the list                 |\n",
    "| `sum()`       | Sum of numeric elements                            |\n",
    "| `min()`       | Smallest element                                   |\n",
    "| `max()`       | Largest element                                    |\n",
    "| `sorted()`    | Returns a sorted copy of the list                  |\n",
    "| `reversed()`  | Returns a reverse iterator                         |\n",
    "| `enumerate()` | Returns index-element pairs                        |\n",
    "| `zip()`       | Combine multiple lists                             |\n",
    "| `map()`       | Apply function to each element                     |\n",
    "| `filter()`    | Filter elements using a condition                  |\n",
    "| `all()`       | Returns `True` if all elements are truthy          |\n",
    "| `any()`       | Returns `True` if any element is truthy            |\n",
    "| `list()`      | Convert something to a list                        |\n",
    "| `type()`      | Find the type (useful to verify it’s a list)       |\n",
    "| `id()`        | Get unique id of the list object                   |\n",
    "| `print()`     | Print the list                                     |\n",
    "| `input()`     | Can be used to read lists from user input          |\n",
    "| `range()`     | Often used to generate lists with `list(range(n))` |\n"
   ]
  },
  {
   "cell_type": "markdown",
   "id": "d800958b",
   "metadata": {},
   "source": [
    "# List Specific\n",
    "\n",
    "| Method             | Purpose                                |\n",
    "| ------------------ | -------------------------------------- |\n",
    "| `append(x)`        | Add element to end                     |\n",
    "| `extend(iterable)` | Add all elements from another iterable |\n",
    "| `insert(i, x)`     | Insert at a given position             |\n",
    "| `remove(x)`        | Remove first occurrence of x           |\n",
    "| `pop([i])`         | Remove and return element at index i   |\n",
    "| `clear()`          | Remove all elements                    |\n",
    "| `index(x)`         | First index of element x               |\n",
    "| `count(x)`         | Count occurrences of x                 |\n",
    "| `sort()`           | Sort list in place                     |\n",
    "| `reverse()`        | Reverse list in place                  |\n",
    "| `copy()`           | Shallow copy of the list               |\n"
   ]
  },
  {
   "cell_type": "markdown",
   "id": "f2493442",
   "metadata": {},
   "source": [
    "# Common operations\n",
    "| Operator              | Purpose                   |\n",
    "| --------------------- | ------------------------- |\n",
    "| `+`                   | Concatenate two lists     |\n",
    "| `*`                   | Repeat list               |\n",
    "| `in` / `not in`       | Check membership          |\n",
    "| `==`, `!=`, `<`, etc. | Compare lists             |\n",
    "| `[]`, `[i:j]`         | Access and slice lists    |\n",
    "| `del`                 | Delete list or list slice |\n"
   ]
  },
  {
   "cell_type": "markdown",
   "id": "4485978c",
   "metadata": {},
   "source": [
    "# common modules to do Question Faster\n",
    "| Module        | Useful Functions                                                                        |\n",
    "| ------------- | --------------------------------------------------------------------------------------- |\n",
    "| `itertools`   | `chain()`, `combinations()`, `permutations()`, `product()`, `groupby()`, `accumulate()` |\n",
    "| `functools`   | `reduce()` for reductions                                                               |\n",
    "| `collections` | `Counter()`, `deque()`, `defaultdict()`                                                 |\n",
    "| `operator`    | Operator functions like `itemgetter()` for sorting, etc.                                |\n",
    "| `math`        | Useful for applying mathematical operations elementwise                                 |\n"
   ]
  },
  {
   "cell_type": "markdown",
   "id": "7158c8d5",
   "metadata": {},
   "source": [
    "# Sum question can be solved with a single fucntion sometimes\n",
    "| Problem Type                | Function/Method                                        |\n",
    "| --------------------------- | ------------------------------------------------------ |\n",
    "| Sum / Average               | `sum()`, `len()`                                       |\n",
    "| Find max / min              | `max()`, `min()`                                       |\n",
    "| Sorting                     | `sort()`, `sorted()`                                   |\n",
    "| Removing duplicates         | `list(set(lst))`                                       |\n",
    "| Filtering                   | `filter()`, list comprehension                         |\n",
    "| Mapping / Transformation    | `map()`, list comprehension                            |\n",
    "| Search                      | `in`, `index()`, `count()`                             |\n",
    "| Reverse                     | `reverse()`, `reversed()`                              |\n",
    "| Concatenate                 | `+`, `extend()`                                        |\n",
    "| Slicing                     | `lst[start:end:step]`                                  |\n",
    "| Append / Remove             | `append()`, `remove()`, `pop()`                        |\n",
    "| Accumulated sum             | `itertools.accumulate()`                               |\n",
    "| Combinations / Permutations | `itertools.combinations()`, `itertools.permutations()` |\n"
   ]
  }
 ],
 "metadata": {
  "language_info": {
   "name": "python"
  }
 },
 "nbformat": 4,
 "nbformat_minor": 5
}
